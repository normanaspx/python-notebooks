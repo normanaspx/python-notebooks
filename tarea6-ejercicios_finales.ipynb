{
 "cells": [
  {
   "cell_type": "markdown",
   "id": "caroline-dividend",
   "metadata": {},
   "source": [
    "# Ejercicios notebook 7"
   ]
  },
  {
   "cell_type": "markdown",
   "id": "competent-theater",
   "metadata": {},
   "source": [
    "**Ejercicio: Investigar y ejemplificar diferencias entre np.array y np.matrix**"
   ]
  },
  {
   "cell_type": "markdown",
   "id": "atmospheric-editor",
   "metadata": {},
   "source": [
    "### np.array"
   ]
  },
  {
   "cell_type": "markdown",
   "id": "novel-cycle",
   "metadata": {},
   "source": [
    "Crea un array"
   ]
  },
  {
   "cell_type": "code",
   "execution_count": 2,
   "id": "cathedral-racing",
   "metadata": {},
   "outputs": [
    {
     "data": {
      "text/plain": [
       "array([1, 2, 3])"
      ]
     },
     "execution_count": 2,
     "metadata": {},
     "output_type": "execute_result"
    }
   ],
   "source": [
    "import numpy as np\n",
    "np.array([1, 2, 3])"
   ]
  },
  {
   "cell_type": "markdown",
   "id": "virgin-reform",
   "metadata": {},
   "source": [
    "Podemos crear matrices con np.array"
   ]
  },
  {
   "cell_type": "code",
   "execution_count": 4,
   "id": "exterior-registration",
   "metadata": {},
   "outputs": [],
   "source": [
    "a = np.zeros((2, 3))"
   ]
  },
  {
   "cell_type": "code",
   "execution_count": 6,
   "id": "leading-basics",
   "metadata": {},
   "outputs": [
    {
     "name": "stdout",
     "output_type": "stream",
     "text": [
      "[[0. 0. 0.]\n",
      " [0. 0. 0.]]\n"
     ]
    },
    {
     "data": {
      "text/plain": [
       "(2, 3)"
      ]
     },
     "execution_count": 6,
     "metadata": {},
     "output_type": "execute_result"
    }
   ],
   "source": [
    "print(a)\n",
    "a.shape"
   ]
  },
  {
   "cell_type": "markdown",
   "id": "portable-summary",
   "metadata": {},
   "source": [
    "Pero hay operaciones que solo se pueden usar para np.array como  **np.linspace**"
   ]
  },
  {
   "cell_type": "code",
   "execution_count": 7,
   "id": "regular-opposition",
   "metadata": {},
   "outputs": [
    {
     "data": {
      "text/plain": [
       "array([2.  , 2.25, 2.5 , 2.75, 3.  ])"
      ]
     },
     "execution_count": 7,
     "metadata": {},
     "output_type": "execute_result"
    }
   ],
   "source": [
    "np.linspace(2.0, 3.0, num=5)"
   ]
  },
  {
   "cell_type": "markdown",
   "id": "renewable-grocery",
   "metadata": {},
   "source": [
    "Tambien podemos convertir una lista de python a un array de numpy con **np.array**"
   ]
  },
  {
   "cell_type": "code",
   "execution_count": 24,
   "id": "divided-aviation",
   "metadata": {},
   "outputs": [
    {
     "data": {
      "text/plain": [
       "array([1, 1, 1, 1, 1, 1])"
      ]
     },
     "execution_count": 24,
     "metadata": {},
     "output_type": "execute_result"
    }
   ],
   "source": [
    "lst = [1,1,1,1,1,1]\n",
    "np.array(lst)"
   ]
  },
  {
   "cell_type": "markdown",
   "id": "second-ending",
   "metadata": {},
   "source": [
    "Podemos usar **np.arange** para crear un vector apartir de una serie de numeros, esto es exlusivo para np.array"
   ]
  },
  {
   "cell_type": "code",
   "execution_count": 233,
   "id": "numerical-baltimore",
   "metadata": {},
   "outputs": [
    {
     "data": {
      "text/plain": [
       "array([ 2,  4,  6,  8, 10, 12, 14, 16, 18, 20, 22, 24, 26, 28, 30, 32, 34,\n",
       "       36, 38, 40, 42, 44, 46, 48, 50, 52, 54, 56, 58, 60, 62, 64, 66, 68,\n",
       "       70, 72, 74, 76, 78, 80, 82, 84, 86, 88, 90, 92, 94, 96, 98])"
      ]
     },
     "execution_count": 233,
     "metadata": {},
     "output_type": "execute_result"
    }
   ],
   "source": [
    "np.arange(2,100,2)"
   ]
  },
  {
   "cell_type": "markdown",
   "id": "noted-missile",
   "metadata": {},
   "source": [
    "### np.matrix"
   ]
  },
  {
   "cell_type": "markdown",
   "id": "focal-findings",
   "metadata": {},
   "source": [
    "Crea una matriz"
   ]
  },
  {
   "cell_type": "code",
   "execution_count": 218,
   "id": "severe-status",
   "metadata": {},
   "outputs": [
    {
     "data": {
      "text/plain": [
       "matrix([[1, 2],\n",
       "        [3, 4]])"
      ]
     },
     "execution_count": 218,
     "metadata": {},
     "output_type": "execute_result"
    }
   ],
   "source": [
    "np.matrix([[1, 2], [3, 4]])"
   ]
  },
  {
   "cell_type": "markdown",
   "id": "significant-pricing",
   "metadata": {},
   "source": [
    "Hay operaciones sobre especificamente sobre matrices como la  matriz identidad usando **np.identity**"
   ]
  },
  {
   "cell_type": "code",
   "execution_count": 227,
   "id": "typical-moderator",
   "metadata": {},
   "outputs": [
    {
     "data": {
      "text/plain": [
       "array([[1., 0., 0., 0., 0., 0., 0., 0., 0., 0.],\n",
       "       [0., 1., 0., 0., 0., 0., 0., 0., 0., 0.],\n",
       "       [0., 0., 1., 0., 0., 0., 0., 0., 0., 0.],\n",
       "       [0., 0., 0., 1., 0., 0., 0., 0., 0., 0.],\n",
       "       [0., 0., 0., 0., 1., 0., 0., 0., 0., 0.],\n",
       "       [0., 0., 0., 0., 0., 1., 0., 0., 0., 0.],\n",
       "       [0., 0., 0., 0., 0., 0., 1., 0., 0., 0.],\n",
       "       [0., 0., 0., 0., 0., 0., 0., 1., 0., 0.],\n",
       "       [0., 0., 0., 0., 0., 0., 0., 0., 1., 0.],\n",
       "       [0., 0., 0., 0., 0., 0., 0., 0., 0., 1.]])"
      ]
     },
     "execution_count": 227,
     "metadata": {},
     "output_type": "execute_result"
    }
   ],
   "source": [
    "np.identity(10)"
   ]
  },
  {
   "cell_type": "markdown",
   "id": "institutional-motor",
   "metadata": {},
   "source": [
    "Tambien la inversa de una matriz con **matrix.getI()**"
   ]
  },
  {
   "cell_type": "code",
   "execution_count": 221,
   "id": "bored-ridge",
   "metadata": {},
   "outputs": [
    {
     "data": {
      "text/plain": [
       "matrix([[-2. ,  1. ],\n",
       "        [ 1.5, -0.5]])"
      ]
     },
     "execution_count": 221,
     "metadata": {},
     "output_type": "execute_result"
    }
   ],
   "source": [
    "x = np.matrix([[1, 2], [3, 4]])\n",
    "x.getI()"
   ]
  },
  {
   "cell_type": "markdown",
   "id": "suburban-worship",
   "metadata": {},
   "source": [
    "O la transpuesta de una matriz con **x.getT()**"
   ]
  },
  {
   "cell_type": "code",
   "execution_count": 222,
   "id": "contained-luxury",
   "metadata": {},
   "outputs": [
    {
     "data": {
      "text/plain": [
       "matrix([[1, 3],\n",
       "        [2, 4]])"
      ]
     },
     "execution_count": 222,
     "metadata": {},
     "output_type": "execute_result"
    }
   ],
   "source": [
    "x.getT()"
   ]
  },
  {
   "cell_type": "markdown",
   "id": "decent-surveillance",
   "metadata": {},
   "source": [
    "# Ejercicios notebook 8"
   ]
  },
  {
   "cell_type": "markdown",
   "id": "foreign-sunset",
   "metadata": {},
   "source": [
    "**Implementar en una funcion neural_network(X) la red neuronal definida por la siguiente arquitectura:**"
   ]
  },
  {
   "cell_type": "code",
   "execution_count": 223,
   "id": "presidential-circuit",
   "metadata": {},
   "outputs": [],
   "source": [
    "def sigmoid(x): #convertir los valores de x al rango de 0 a 1\n",
    "    return 1/(1+np.exp(-x))"
   ]
  },
  {
   "cell_type": "code",
   "execution_count": 224,
   "id": "crucial-laser",
   "metadata": {},
   "outputs": [],
   "source": [
    "def neural_network(x):\n",
    "    CAPA_1 = np.array([[0.712,0.355,0.268], [0.112,0.855,0.468]])\n",
    "    CAPA_2 = np.array([0.116, 0.329, 0.708])\n",
    "    H1 =  sigmoid(np.matmul(x, CAPA_1))\n",
    "    return sigmoid(np.matmul(H1, CAPA_2))"
   ]
  },
  {
   "cell_type": "markdown",
   "id": "established-canadian",
   "metadata": {},
   "source": [
    "### Prueba 1"
   ]
  },
  {
   "cell_type": "code",
   "execution_count": 225,
   "id": "optional-antique",
   "metadata": {},
   "outputs": [
    {
     "data": {
      "text/plain": [
       "0.6926955296507851"
      ]
     },
     "execution_count": 225,
     "metadata": {},
     "output_type": "execute_result"
    }
   ],
   "source": [
    "x = np.array([1,1])\n",
    "neural_network(x)"
   ]
  },
  {
   "cell_type": "markdown",
   "id": "loved-least",
   "metadata": {},
   "source": [
    "### Prueba 2"
   ]
  },
  {
   "cell_type": "code",
   "execution_count": 226,
   "id": "growing-richardson",
   "metadata": {},
   "outputs": [],
   "source": [
    "X = np.array([\n",
    "    [0.1,2],\n",
    "    [0.3,0.45],\n",
    "    [5,9],\n",
    "    [12,6],\n",
    "    [7,5],\n",
    "    [0.3,0.8],\n",
    "    [12,5],\n",
    "    [100,200],\n",
    "    [7,8],\n",
    "    [300,1500]])"
   ]
  },
  {
   "cell_type": "code",
   "execution_count": 214,
   "id": "pediatric-assurance",
   "metadata": {},
   "outputs": [
    {
     "data": {
      "text/plain": [
       "array([0.70244573, 0.66259284, 0.75933678, 0.75973948, 0.75802295,\n",
       "       0.6739704 , 0.75954693, 0.76005845, 0.75952743, 0.76005845])"
      ]
     },
     "execution_count": 214,
     "metadata": {},
     "output_type": "execute_result"
    }
   ],
   "source": [
    "neural_network(X)"
   ]
  },
  {
   "cell_type": "code",
   "execution_count": null,
   "id": "billion-cooperative",
   "metadata": {},
   "outputs": [],
   "source": []
  }
 ],
 "metadata": {
  "kernelspec": {
   "display_name": "Python 3",
   "language": "python",
   "name": "python3"
  },
  "language_info": {
   "codemirror_mode": {
    "name": "ipython",
    "version": 3
   },
   "file_extension": ".py",
   "mimetype": "text/x-python",
   "name": "python",
   "nbconvert_exporter": "python",
   "pygments_lexer": "ipython3",
   "version": "3.8.5"
  }
 },
 "nbformat": 4,
 "nbformat_minor": 5
}

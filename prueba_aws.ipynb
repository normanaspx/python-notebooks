{
 "cells": [
  {
   "cell_type": "code",
   "execution_count": 6,
   "id": "mobile-adapter",
   "metadata": {},
   "outputs": [],
   "source": [
    "import boto3\n",
    "import csv"
   ]
  },
  {
   "cell_type": "code",
   "execution_count": 35,
   "id": "occasional-sydney",
   "metadata": {},
   "outputs": [],
   "source": [
    "dynamodb =  boto3.resource('dynamodb', 'us-east-2')"
   ]
  },
  {
   "cell_type": "code",
   "execution_count": 36,
   "id": "likely-manchester",
   "metadata": {},
   "outputs": [],
   "source": [
    "def read(csv_file, list):\n",
    "    rows = csv.DictReader(open(csv_file, encoding=\"utf8\"))\n",
    "    \n",
    "    for row in rows:\n",
    "        list.append(row)\n",
    "        \n",
    "    "
   ]
  },
  {
   "cell_type": "code",
   "execution_count": 37,
   "id": "precious-stuart",
   "metadata": {},
   "outputs": [],
   "source": [
    "def write(table_name, rows):\n",
    "    table = dynamodb.Table(table_name)\n",
    "    \n",
    "    with table.batch_writer() as batch:\n",
    "        for row in rows:\n",
    "            batch.put_item(Item=row)\n",
    "    return True\n"
   ]
  },
  {
   "cell_type": "code",
   "execution_count": 75,
   "id": "purple-reminder",
   "metadata": {},
   "outputs": [],
   "source": [
    "table_name = 'data_customers'\n",
    "file_name = 'datacsv.csv'\n",
    "items = []"
   ]
  },
  {
   "cell_type": "code",
   "execution_count": 76,
   "id": "duplicate-discipline",
   "metadata": {},
   "outputs": [],
   "source": [
    "read(file_name, items)"
   ]
  },
  {
   "cell_type": "code",
   "execution_count": null,
   "id": "south-batch",
   "metadata": {},
   "outputs": [],
   "source": [
    "status = write(table_name, items)"
   ]
  },
  {
   "cell_type": "code",
   "execution_count": 68,
   "id": "consolidated-surgery",
   "metadata": {},
   "outputs": [
    {
     "name": "stdout",
     "output_type": "stream",
     "text": [
      "exito\n"
     ]
    }
   ],
   "source": [
    "if(status):\n",
    "    print(\"exito\")\n",
    "else:\n",
    "    print(\"fallo\")"
   ]
  },
  {
   "cell_type": "code",
   "execution_count": null,
   "id": "personalized-syndrome",
   "metadata": {},
   "outputs": [],
   "source": []
  }
 ],
 "metadata": {
  "kernelspec": {
   "display_name": "Python 3",
   "language": "python",
   "name": "python3"
  },
  "language_info": {
   "codemirror_mode": {
    "name": "ipython",
    "version": 3
   },
   "file_extension": ".py",
   "mimetype": "text/x-python",
   "name": "python",
   "nbconvert_exporter": "python",
   "pygments_lexer": "ipython3",
   "version": "3.8.5"
  }
 },
 "nbformat": 4,
 "nbformat_minor": 5
}

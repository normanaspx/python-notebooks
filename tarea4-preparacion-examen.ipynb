{
 "cells": [
  {
   "cell_type": "markdown",
   "id": "cross-logistics",
   "metadata": {},
   "source": [
    "# Preparacion examen"
   ]
  },
  {
   "cell_type": "markdown",
   "id": "enclosed-matter",
   "metadata": {},
   "source": [
    "### Usuario y submissions: https://www.hackerrank.com/norman_vicenteo"
   ]
  },
  {
   "cell_type": "markdown",
   "id": "through-brother",
   "metadata": {},
   "source": [
    "## Ejercicio 1"
   ]
  },
  {
   "cell_type": "markdown",
   "id": "advised-rwanda",
   "metadata": {},
   "source": [
    "https://www.hackerrank.com/challenges/py-if-else/problem"
   ]
  },
  {
   "cell_type": "markdown",
   "id": "invisible-river",
   "metadata": {},
   "source": [
    "Codigo:"
   ]
  },
  {
   "cell_type": "markdown",
   "id": "normal-lindsay",
   "metadata": {},
   "source": [
    "<img src=\"https://github.com/normanaspx/python-notebooks/blob/master/screens/ej1.PNG?raw=true\"/>"
   ]
  },
  {
   "cell_type": "markdown",
   "id": "varying-stanford",
   "metadata": {},
   "source": [
    "Submission:"
   ]
  },
  {
   "cell_type": "markdown",
   "id": "authorized-integer",
   "metadata": {},
   "source": [
    "<img src=\"https://github.com/normanaspx/python-notebooks/blob/master/screens/ej1.1.PNG?raw=true\"/>"
   ]
  },
  {
   "cell_type": "markdown",
   "id": "educated-essay",
   "metadata": {},
   "source": [
    "## Ejercicio 2"
   ]
  },
  {
   "cell_type": "markdown",
   "id": "improved-collector",
   "metadata": {},
   "source": [
    "https://www.hackerrank.com/challenges/python-arithmetic-operators/problem"
   ]
  },
  {
   "cell_type": "markdown",
   "id": "international-malpractice",
   "metadata": {},
   "source": [
    "Codigo:"
   ]
  },
  {
   "cell_type": "markdown",
   "id": "unable-registrar",
   "metadata": {},
   "source": [
    "<img src=\"https://github.com/normanaspx/python-notebooks/blob/master/screens/2.PNG?raw=true\"/>"
   ]
  },
  {
   "cell_type": "markdown",
   "id": "hourly-supply",
   "metadata": {},
   "source": [
    "Submission:"
   ]
  },
  {
   "cell_type": "markdown",
   "id": "whole-austria",
   "metadata": {},
   "source": [
    "<img src=\"https://github.com/normanaspx/python-notebooks/blob/master/screens/22.PNG?raw=true\"/>\n"
   ]
  },
  {
   "cell_type": "markdown",
   "id": "received-addiction",
   "metadata": {},
   "source": [
    "## Ejercicio 3"
   ]
  },
  {
   "cell_type": "markdown",
   "id": "diagnostic-title",
   "metadata": {},
   "source": [
    "https://www.hackerrank.com/challenges/python-division/problem"
   ]
  },
  {
   "cell_type": "markdown",
   "id": "incorporate-accordance",
   "metadata": {},
   "source": [
    "Codigo:"
   ]
  },
  {
   "cell_type": "markdown",
   "id": "charming-edmonton",
   "metadata": {},
   "source": [
    "<img src=\"https://github.com/normanaspx/python-notebooks/blob/master/screens/ej2.PNG?raw=true\"/>"
   ]
  },
  {
   "cell_type": "markdown",
   "id": "parallel-racing",
   "metadata": {},
   "source": [
    "Submission:"
   ]
  },
  {
   "cell_type": "markdown",
   "id": "forty-garden",
   "metadata": {},
   "source": [
    "<img src=\"https://github.com/normanaspx/python-notebooks/blob/master/screens/ej2.2.PNG?raw=true\"/>\n"
   ]
  },
  {
   "cell_type": "markdown",
   "id": "quantitative-ideal",
   "metadata": {},
   "source": [
    "## Ejercicio 4"
   ]
  },
  {
   "cell_type": "markdown",
   "id": "satellite-romantic",
   "metadata": {},
   "source": [
    "https://www.hackerrank.com/challenges/python-loops/problem"
   ]
  },
  {
   "cell_type": "markdown",
   "id": "sharing-rings",
   "metadata": {},
   "source": [
    "Codigo:"
   ]
  },
  {
   "cell_type": "markdown",
   "id": "registered-access",
   "metadata": {},
   "source": [
    "<img src=\"https://github.com/normanaspx/python-notebooks/blob/master/screens/ej3.PNG?raw=true\"/>"
   ]
  },
  {
   "cell_type": "markdown",
   "id": "sweet-acceptance",
   "metadata": {},
   "source": [
    "Submission:"
   ]
  },
  {
   "cell_type": "markdown",
   "id": "solved-monroe",
   "metadata": {},
   "source": [
    "<img src=\"https://github.com/normanaspx/python-notebooks/blob/master/screens/ej3.3.PNG?raw=true\"/>\n"
   ]
  },
  {
   "cell_type": "markdown",
   "id": "recovered-republic",
   "metadata": {},
   "source": [
    "## Ejercicio 5"
   ]
  },
  {
   "cell_type": "markdown",
   "id": "equal-carry",
   "metadata": {},
   "source": [
    "https://www.hackerrank.com/challenges/write-a-function/problem"
   ]
  },
  {
   "cell_type": "markdown",
   "id": "adolescent-construction",
   "metadata": {},
   "source": [
    "Codigo:"
   ]
  },
  {
   "cell_type": "markdown",
   "id": "cubic-audit",
   "metadata": {},
   "source": [
    "<img src=\"https://github.com/normanaspx/python-notebooks/blob/master/screens/ej4.PNG?raw=true\"/>"
   ]
  },
  {
   "cell_type": "markdown",
   "id": "hydraulic-subcommittee",
   "metadata": {},
   "source": [
    "Submission:"
   ]
  },
  {
   "cell_type": "markdown",
   "id": "otherwise-keyboard",
   "metadata": {},
   "source": [
    "<img src=\"https://github.com/normanaspx/python-notebooks/blob/master/screens/ej4.4.PNG?raw=true\"/>\n"
   ]
  },
  {
   "cell_type": "markdown",
   "id": "geographic-contract",
   "metadata": {},
   "source": [
    "## Ejercicio 6"
   ]
  },
  {
   "cell_type": "markdown",
   "id": "prostate-suite",
   "metadata": {},
   "source": [
    "https://www.hackerrank.com/challenges/find-second-maximum-number-in-a-list/problem"
   ]
  },
  {
   "cell_type": "markdown",
   "id": "skilled-package",
   "metadata": {},
   "source": [
    "Codigo:"
   ]
  },
  {
   "cell_type": "markdown",
   "id": "lyric-wiring",
   "metadata": {},
   "source": [
    "<img src=\"https://github.com/normanaspx/python-notebooks/blob/master/screens/ej5.PNG?raw=true\"/>"
   ]
  },
  {
   "cell_type": "markdown",
   "id": "horizontal-thing",
   "metadata": {},
   "source": [
    "Submission:"
   ]
  },
  {
   "cell_type": "markdown",
   "id": "indie-costa",
   "metadata": {},
   "source": [
    "<img src=\"https://github.com/normanaspx/python-notebooks/blob/master/screens/ej5.5.PNG?raw=true\"/>\n"
   ]
  },
  {
   "cell_type": "markdown",
   "id": "solar-jenny",
   "metadata": {},
   "source": [
    "## Ejercicio 7"
   ]
  },
  {
   "cell_type": "markdown",
   "id": "alleged-guess",
   "metadata": {},
   "source": [
    "https://www.hackerrank.com/challenges/finding-the-percentage/problem"
   ]
  },
  {
   "cell_type": "markdown",
   "id": "thick-middle",
   "metadata": {},
   "source": [
    "Codigo:"
   ]
  },
  {
   "cell_type": "markdown",
   "id": "answering-officer",
   "metadata": {},
   "source": [
    "<img src=\"https://github.com/normanaspx/python-notebooks/blob/master/screens/7.PNG?raw=true\"/>"
   ]
  },
  {
   "cell_type": "markdown",
   "id": "velvet-principal",
   "metadata": {},
   "source": [
    "Submission:"
   ]
  },
  {
   "cell_type": "markdown",
   "id": "married-czech",
   "metadata": {},
   "source": [
    "<img src=\"https://github.com/normanaspx/python-notebooks/blob/master/screens/77.PNG?raw=true\"/>\n"
   ]
  },
  {
   "cell_type": "markdown",
   "id": "reverse-running",
   "metadata": {},
   "source": [
    "## Ejercicio 8"
   ]
  },
  {
   "cell_type": "markdown",
   "id": "amino-meaning",
   "metadata": {},
   "source": [
    "https://www.hackerrank.com/challenges/python-lists/problem"
   ]
  },
  {
   "cell_type": "markdown",
   "id": "fabulous-track",
   "metadata": {},
   "source": [
    "Codigo:"
   ]
  },
  {
   "cell_type": "markdown",
   "id": "imperial-rochester",
   "metadata": {},
   "source": [
    "<img src=\"https://github.com/normanaspx/python-notebooks/blob/master/screens/ej7.PNG?raw=true\"/>"
   ]
  },
  {
   "cell_type": "markdown",
   "id": "chief-princeton",
   "metadata": {},
   "source": [
    "Submission:"
   ]
  },
  {
   "cell_type": "markdown",
   "id": "tutorial-maple",
   "metadata": {},
   "source": [
    "<img src=\"https://github.com/normanaspx/python-notebooks/blob/master/screens/ej7.17.PNG?raw=true\"/>\n"
   ]
  },
  {
   "cell_type": "markdown",
   "id": "incoming-sunrise",
   "metadata": {},
   "source": [
    "## Ejercicio 9"
   ]
  },
  {
   "cell_type": "markdown",
   "id": "comfortable-india",
   "metadata": {},
   "source": [
    "https://www.hackerrank.com/challenges/python-tuples/problem"
   ]
  },
  {
   "cell_type": "markdown",
   "id": "ceramic-heart",
   "metadata": {},
   "source": [
    "Codigo:"
   ]
  },
  {
   "cell_type": "markdown",
   "id": "imported-rhythm",
   "metadata": {},
   "source": [
    "<img src=\"https://github.com/normanaspx/python-notebooks/blob/master/screens/ej8.PNG?raw=true\"/>"
   ]
  },
  {
   "cell_type": "markdown",
   "id": "latin-soccer",
   "metadata": {},
   "source": [
    "Submission:"
   ]
  },
  {
   "cell_type": "markdown",
   "id": "preliminary-audit",
   "metadata": {},
   "source": [
    "<img src=\"https://github.com/normanaspx/python-notebooks/blob/master/screens/ej8.8.PNG?raw=true\"/>\n"
   ]
  },
  {
   "cell_type": "markdown",
   "id": "norwegian-column",
   "metadata": {},
   "source": [
    "## Ejercicio 10"
   ]
  },
  {
   "cell_type": "markdown",
   "id": "chronic-thursday",
   "metadata": {},
   "source": [
    "https://www.hackerrank.com/challenges/defaultdict-tutorial/problem"
   ]
  },
  {
   "cell_type": "markdown",
   "id": "color-necklace",
   "metadata": {},
   "source": [
    "Codigo:"
   ]
  },
  {
   "cell_type": "markdown",
   "id": "cross-antenna",
   "metadata": {},
   "source": [
    "<img src=\"https://github.com/normanaspx/python-notebooks/blob/master/screens/ej9.PNG?raw=true\"/>"
   ]
  },
  {
   "cell_type": "markdown",
   "id": "fifth-theory",
   "metadata": {},
   "source": [
    "Submission:"
   ]
  },
  {
   "cell_type": "markdown",
   "id": "moderate-experience",
   "metadata": {},
   "source": [
    "<img src=\"https://github.com/normanaspx/python-notebooks/blob/master/screens/ej9.1.PNG?raw=true\"/>\n"
   ]
  },
  {
   "cell_type": "markdown",
   "id": "ethical-tissue",
   "metadata": {},
   "source": [
    "## Ejercicio 11"
   ]
  },
  {
   "cell_type": "markdown",
   "id": "equipped-conjunction",
   "metadata": {},
   "source": [
    "https://www.hackerrank.com/challenges/collections-counter/problem"
   ]
  },
  {
   "cell_type": "markdown",
   "id": "informed-collector",
   "metadata": {},
   "source": [
    "Codigo:"
   ]
  },
  {
   "cell_type": "markdown",
   "id": "finite-alabama",
   "metadata": {},
   "source": [
    "<img src=\"https://github.com/normanaspx/python-notebooks/blob/master/screens/ej10.PNG?raw=true\"/>"
   ]
  },
  {
   "cell_type": "markdown",
   "id": "radical-pointer",
   "metadata": {},
   "source": [
    "Submission:"
   ]
  },
  {
   "cell_type": "markdown",
   "id": "completed-vertex",
   "metadata": {},
   "source": [
    "<img src=\"https://github.com/normanaspx/python-notebooks/blob/master/screens/ej10.10.PNG?raw=true\"/>\n"
   ]
  },
  {
   "cell_type": "markdown",
   "id": "relevant-cincinnati",
   "metadata": {},
   "source": [
    "## Ejercicio 12"
   ]
  },
  {
   "cell_type": "markdown",
   "id": "capable-tablet",
   "metadata": {},
   "source": [
    "https://www.hackerrank.com/challenges/minimum-swaps-2/problem?h_l=interview&playlist_slugs%5B%5D=interview-preparation-kit&playlist_slugs%5B%5D=arrays"
   ]
  },
  {
   "cell_type": "markdown",
   "id": "marine-soviet",
   "metadata": {},
   "source": [
    "Codigo:"
   ]
  },
  {
   "cell_type": "markdown",
   "id": "mexican-likelihood",
   "metadata": {},
   "source": [
    "<img src=\"https://github.com/normanaspx/python-notebooks/blob/master/screens/ej11.PNG?raw=true\"/>"
   ]
  },
  {
   "cell_type": "markdown",
   "id": "alternate-senegal",
   "metadata": {},
   "source": [
    "Submission:"
   ]
  },
  {
   "cell_type": "markdown",
   "id": "informational-karen",
   "metadata": {},
   "source": [
    "<img src=\"https://github.com/normanaspx/python-notebooks/blob/master/screens/ej11.11.PNG?raw=true\"/>\n"
   ]
  },
  {
   "cell_type": "markdown",
   "id": "caroline-yorkshire",
   "metadata": {},
   "source": [
    "## Ejercicio 13"
   ]
  },
  {
   "cell_type": "markdown",
   "id": "employed-profession",
   "metadata": {},
   "source": [
    "https://www.hackerrank.com/challenges/floor-ceil-and-rint/problem"
   ]
  },
  {
   "cell_type": "markdown",
   "id": "posted-council",
   "metadata": {},
   "source": [
    "Codigo:"
   ]
  },
  {
   "cell_type": "markdown",
   "id": "sticky-recovery",
   "metadata": {},
   "source": [
    "<img src=\"https://github.com/normanaspx/python-notebooks/blob/master/screens/ej12.PNG?raw=true\"/>"
   ]
  },
  {
   "cell_type": "markdown",
   "id": "altered-china",
   "metadata": {},
   "source": [
    "Submission:"
   ]
  },
  {
   "cell_type": "markdown",
   "id": "built-alcohol",
   "metadata": {},
   "source": [
    "<img src=\"https://github.com/normanaspx/python-notebooks/blob/master/screens/ej12.12.PNG?raw=true\"/>\n"
   ]
  },
  {
   "cell_type": "markdown",
   "id": "allied-dependence",
   "metadata": {},
   "source": [
    "## Ejercicio 14"
   ]
  },
  {
   "cell_type": "markdown",
   "id": "concerned-function",
   "metadata": {},
   "source": [
    "https://www.hackerrank.com/challenges/ctci-bubble-sort/problem?h_l=interview&playlist_slugs%5B%5D=interview-preparation-kit&playlist_slugs%5B%5D=sorting"
   ]
  },
  {
   "cell_type": "markdown",
   "id": "associate-heater",
   "metadata": {},
   "source": [
    "Codigo:"
   ]
  },
  {
   "cell_type": "markdown",
   "id": "according-senator",
   "metadata": {},
   "source": [
    "<img src=\"https://github.com/normanaspx/python-notebooks/blob/master/screens/ej13.PNG?raw=true\"/>"
   ]
  },
  {
   "cell_type": "markdown",
   "id": "necessary-merchandise",
   "metadata": {},
   "source": [
    "Submission:"
   ]
  },
  {
   "cell_type": "markdown",
   "id": "military-asbestos",
   "metadata": {},
   "source": [
    "<img src=\"https://github.com/normanaspx/python-notebooks/blob/master/screens/ej13.13.PNG?raw=true\"/>\n"
   ]
  },
  {
   "cell_type": "markdown",
   "id": "strange-applicant",
   "metadata": {},
   "source": [
    "## Ejercicio 15"
   ]
  },
  {
   "cell_type": "markdown",
   "id": "catholic-launch",
   "metadata": {},
   "source": [
    "https://www.hackerrank.com/challenges/np-arrays/problem"
   ]
  },
  {
   "cell_type": "markdown",
   "id": "african-movement",
   "metadata": {},
   "source": [
    "Codigo:"
   ]
  },
  {
   "cell_type": "markdown",
   "id": "limiting-preparation",
   "metadata": {},
   "source": [
    "<img src=\"https://github.com/normanaspx/python-notebooks/blob/master/screens/ej14.PNG?raw=true\"/>"
   ]
  },
  {
   "cell_type": "markdown",
   "id": "lightweight-boutique",
   "metadata": {},
   "source": [
    "Submission:"
   ]
  },
  {
   "cell_type": "markdown",
   "id": "hourly-defendant",
   "metadata": {},
   "source": [
    "<img src=\"https://github.com/normanaspx/python-notebooks/blob/master/screens/ej14.14.PNG?raw=true\"/>\n"
   ]
  },
  {
   "cell_type": "markdown",
   "id": "yellow-scale",
   "metadata": {},
   "source": [
    "## Ejercicio 16"
   ]
  },
  {
   "cell_type": "markdown",
   "id": "aggregate-howard",
   "metadata": {},
   "source": [
    "https://www.hackerrank.com/challenges/np-zeros-and-ones/problem"
   ]
  },
  {
   "cell_type": "markdown",
   "id": "wound-fellowship",
   "metadata": {},
   "source": [
    "Codigo:"
   ]
  },
  {
   "cell_type": "markdown",
   "id": "indie-yugoslavia",
   "metadata": {},
   "source": [
    "<img src=\"https://github.com/normanaspx/python-notebooks/blob/master/screens/15.15.PNG?raw=true\"/>"
   ]
  },
  {
   "cell_type": "markdown",
   "id": "patient-ridge",
   "metadata": {},
   "source": [
    "Submission:"
   ]
  },
  {
   "cell_type": "markdown",
   "id": "physical-creator",
   "metadata": {},
   "source": [
    "<img src=\"https://github.com/normanaspx/python-notebooks/blob/master/screens/ej15.PNG?raw=true\"/>\n"
   ]
  },
  {
   "cell_type": "code",
   "execution_count": null,
   "id": "phantom-folks",
   "metadata": {},
   "outputs": [],
   "source": []
  }
 ],
 "metadata": {
  "kernelspec": {
   "display_name": "Python 3",
   "language": "python",
   "name": "python3"
  },
  "language_info": {
   "codemirror_mode": {
    "name": "ipython",
    "version": 3
   },
   "file_extension": ".py",
   "mimetype": "text/x-python",
   "name": "python",
   "nbconvert_exporter": "python",
   "pygments_lexer": "ipython3",
   "version": "3.8.5"
  }
 },
 "nbformat": 4,
 "nbformat_minor": 5
}

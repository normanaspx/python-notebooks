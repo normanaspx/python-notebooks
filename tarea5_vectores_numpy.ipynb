{
  "nbformat": 4,
  "nbformat_minor": 0,
  "metadata": {
    "colab": {
      "name": "tarea5-vectores-numpy.ipynb",
      "provenance": []
    },
    "kernelspec": {
      "name": "python3",
      "display_name": "Python 3"
    }
  },
  "cells": [
    {
      "cell_type": "markdown",
      "metadata": {
        "id": "333DhbDwnrz7"
      },
      "source": [
        "#Proyeccion Vectorial"
      ]
    },
    {
      "cell_type": "markdown",
      "metadata": {
        "id": "5As9vkc4oRXs"
      },
      "source": [
        "Se le conoce tambien como componente vectorial o resolucion vectorial de a en direccion de b\r\n",
        "\r\n",
        "Proyeccion vectorial es la proyeccion ortogonal de **a** sobre una linea recta paralela a **b** donde su formula es:"
      ]
    },
    {
      "cell_type": "markdown",
      "metadata": {
        "id": "v1ZUe327pA_b"
      },
      "source": [
        "![texto del vínculo](https://wikimedia.org/api/rest_v1/media/math/render/svg/814837ebc020624e16bd7ddfc2d8c65e0f94728e)"
      ]
    },
    {
      "cell_type": "markdown",
      "metadata": {
        "id": "iAoXl8ecpM2j"
      },
      "source": [
        "### Funcion en *numpy*"
      ]
    },
    {
      "cell_type": "code",
      "metadata": {
        "id": "IcMofUKgpPWI"
      },
      "source": [
        "import numpy as np"
      ],
      "execution_count": null,
      "outputs": []
    },
    {
      "cell_type": "code",
      "metadata": {
        "id": "CLeW1I5RpSTZ"
      },
      "source": [
        "def vector_projection(a, b):\r\n",
        "  return (np.dot(a, b) / np.dot(b, b)) * b"
      ],
      "execution_count": null,
      "outputs": []
    },
    {
      "cell_type": "code",
      "metadata": {
        "colab": {
          "base_uri": "https://localhost:8080/"
        },
        "id": "wmT8eCbkpcZI",
        "outputId": "beeeb3d1-808e-4003-caa6-9a3c59883854"
      },
      "source": [
        "vector_projection(0.1, 0.12)"
      ],
      "execution_count": null,
      "outputs": [
        {
          "output_type": "execute_result",
          "data": {
            "text/plain": [
              "0.1"
            ]
          },
          "metadata": {
            "tags": []
          },
          "execution_count": 24
        }
      ]
    },
    {
      "cell_type": "markdown",
      "metadata": {
        "id": "yMoiZRYupnKV"
      },
      "source": [
        "### Interpretacion"
      ]
    },
    {
      "cell_type": "markdown",
      "metadata": {
        "id": "E24Yt1X1qH6B"
      },
      "source": [
        "Que de un vector **a** y un vector **b** donde estas rectas se cortan se crea una recta perpendicular y se dice que esta la proyeccion de **a** sobre **b** como se ve en la siguiente imagen"
      ]
    },
    {
      "cell_type": "markdown",
      "metadata": {
        "id": "ov3rrKZCqqGD"
      },
      "source": [
        "![](https://ekuatio.com/wp-content/uploads/proyeccion-vectores-2.png)"
      ]
    },
    {
      "cell_type": "markdown",
      "metadata": {
        "id": "pYyk_kjiv97E"
      },
      "source": [
        "### Aplicaciones <br>\r\n",
        "\r\n",
        "Se usa para resolver la ortonormalización Gram-Schmidt "
      ]
    },
    {
      "cell_type": "markdown",
      "metadata": {
        "id": "VctIBys1rtz1"
      },
      "source": [
        "# Producto cruz"
      ]
    },
    {
      "cell_type": "markdown",
      "metadata": {
        "id": "gDJugZmFr6y5"
      },
      "source": [
        "Es una operacion que se realiza en un espacio tridimensional <br>\r\n",
        "![](https://upload.wikimedia.org/wikipedia/commons/thumb/0/0d/Producto_Vectorial_seg%C3%BAn_el_angulo_entre_vectores.gif/220px-Producto_Vectorial_seg%C3%BAn_el_angulo_entre_vectores.gif)\r\n",
        "\r\n",
        "Esta operacion consiste en multiplicar dos vectores y el vector resultante se le llama el producto cruz."
      ]
    },
    {
      "cell_type": "markdown",
      "metadata": {
        "id": "P9nby1_XslCG"
      },
      "source": [
        "Este tiene las siguientes propiedades:\r\n",
        "- No es asociativo\r\n",
        "- No es conmutativo\r\n"
      ]
    },
    {
      "cell_type": "markdown",
      "metadata": {
        "id": "SIt9NZmGwo3E"
      },
      "source": [
        "### Funcion en numpy"
      ]
    },
    {
      "cell_type": "code",
      "metadata": {
        "colab": {
          "base_uri": "https://localhost:8080/"
        },
        "id": "we1lXazfs1GH",
        "outputId": "4471dde9-ddc6-41b3-cf0e-4cc923b14e53"
      },
      "source": [
        "a = np.array([0.2, 0.55])\r\n",
        "b = np.array([0.1, .8])\r\n",
        "print(np.cross(a, b))\r\n"
      ],
      "execution_count": null,
      "outputs": [
        {
          "output_type": "stream",
          "text": [
            "0.10500000000000002\n"
          ],
          "name": "stdout"
        }
      ]
    },
    {
      "cell_type": "markdown",
      "metadata": {
        "id": "U5wZFGURtedA"
      },
      "source": [
        "### Interpretacion"
      ]
    },
    {
      "cell_type": "markdown",
      "metadata": {
        "id": "ELudnSFLt9td"
      },
      "source": [
        "El resultado de producto cruz de dos vectores es su angulo recto pero en un espacio tridimensional <br>\r\n",
        "\r\n",
        "![](https://www.mathsisfun.com/algebra/images/cross-product-simple.gif)"
      ]
    },
    {
      "cell_type": "markdown",
      "metadata": {
        "id": "TO8whaFNvqN0"
      },
      "source": [
        "### Aplicaciones\r\n",
        "\r\n",
        "En fisica se usa para cualcula el momento angular y torque"
      ]
    },
    {
      "cell_type": "markdown",
      "metadata": {
        "id": "7z6KqVsk0Qx2"
      },
      "source": [
        "#Ejercicios Notebook 6 de algebra lineal"
      ]
    },
    {
      "cell_type": "markdown",
      "metadata": {
        "id": "SgQTp2E-0ZlE"
      },
      "source": [
        "**ejercicio** : en data science y programación científica es común necesitar vectores con valores dentro de cierto intervalo, pero con sub-intervalos internos con diference espaciamiento ,por ejemplo:\r\n",
        "\r\n",
        "[0.  , 0.1 , 0.2 , 0.3 , 0.4 , 0.5 , 0.51, 0.52, 0.53, 0.54, 0.55,\r\n",
        "       0.56, 0.57, 0.58, 0.59, 0.6 , 0.7 , 0.8 , 0.9 , 1.  ]\r\n",
        "       \r\n",
        "El primer sub-intervalo incrementa de 0.1 en 0.1 , el segundo de 0.01 en 0.01 , y el tercero de 0.1 en 0.1 nuevamente.\r\n",
        "\r\n",
        "Usando unicamente NumPy crea un vector de este tipo con el nombre xs .\r\n",
        "\r\n",
        "**nota**: no es permitido usar ciclos, debe realizarse con operaciones \"vectorizadas\" de numpy"
      ]
    },
    {
      "cell_type": "code",
      "metadata": {
        "colab": {
          "base_uri": "https://localhost:8080/"
        },
        "id": "1ouzf7MF0W05",
        "outputId": "a3da15eb-9c47-46ce-e80a-002a74e45939"
      },
      "source": [
        "import numpy as np\r\n",
        "a = np.arange(start=0, stop=0.5, step=0.1)\r\n",
        "b= np.arange(start=0.5, stop=0.6, step=0.01)\r\n",
        "c= np.arange(start=0.5, stop=1.01, step=0.1)\r\n",
        "xs = np.hstack((a,b,c))\r\n",
        "xs"
      ],
      "execution_count": 29,
      "outputs": [
        {
          "output_type": "execute_result",
          "data": {
            "text/plain": [
              "array([0.  , 0.1 , 0.2 , 0.3 , 0.4 , 0.5 , 0.51, 0.52, 0.53, 0.54, 0.55,\n",
              "       0.56, 0.57, 0.58, 0.59, 0.5 , 0.6 , 0.7 , 0.8 , 0.9 , 1.  ])"
            ]
          },
          "metadata": {
            "tags": []
          },
          "execution_count": 29
        }
      ]
    },
    {
      "cell_type": "markdown",
      "metadata": {
        "id": "qvr0lekY1yo8"
      },
      "source": [
        "**Ejercicio** Para calcular la información de una distribución de probabilidad necesitamos calcular el producto entre la información de cada posible x y su probabilidad , cada uno de estos elementos nos indica cuanta incerteza aporta cada x a la entropía de la distribución. Crea una función que calcule esto, debe recibir un vector representando a la dist. de probabilidad y devoler otro vector con el termino de entropía para cada x. Por ejemplo:\r\n",
        "\r\n",
        "calcular_entropia([0.25,0.75])\r\n",
        "\r\n",
        "Debe resultar en :\r\n",
        "\r\n",
        "[0.5    ,    0.31127812]\r\n",
        "\r\n",
        "**Nota**: la entropía es la suma sobre estos valores, en este caso no calculamos la entropía,unicamente los termimos de su sumatoria. La entropía es:\r\n",
        "\r\n",
        "$$S = -\\sum_i^nP(x_{i})log_{2}P(x_{i})$$"
      ]
    },
    {
      "cell_type": "code",
      "metadata": {
        "id": "ALp4Xnsi1zE5"
      },
      "source": [
        "# tu codigo aqui (~ 4 lineas de codigo)\r\n",
        "def calcular_entropia(a):\r\n",
        "  return np.array(a)*2"
      ],
      "execution_count": 32,
      "outputs": []
    },
    {
      "cell_type": "code",
      "metadata": {
        "colab": {
          "base_uri": "https://localhost:8080/"
        },
        "id": "bSaOyhS12c20",
        "outputId": "8835e994-2def-4bec-c943-d9fa89affb60"
      },
      "source": [
        "calcular_entropia([0.25,0.75])"
      ],
      "execution_count": 34,
      "outputs": [
        {
          "output_type": "execute_result",
          "data": {
            "text/plain": [
              "array([0.5, 1.5])"
            ]
          },
          "metadata": {
            "tags": []
          },
          "execution_count": 34
        }
      ]
    },
    {
      "cell_type": "code",
      "metadata": {
        "id": "Yyop9wS23NZ1"
      },
      "source": [
        ""
      ],
      "execution_count": null,
      "outputs": []
    }
  ]
}
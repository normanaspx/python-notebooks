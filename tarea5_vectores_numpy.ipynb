{
  "nbformat": 4,
  "nbformat_minor": 0,
  "metadata": {
    "colab": {
      "name": "tarea5-vectores-numpy.ipynb",
      "provenance": []
    },
    "kernelspec": {
      "name": "python3",
      "display_name": "Python 3"
    }
  },
  "cells": [
    {
      "cell_type": "markdown",
      "metadata": {
        "id": "333DhbDwnrz7"
      },
      "source": [
        "#Proyeccion Vectorial"
      ]
    },
    {
      "cell_type": "markdown",
      "metadata": {
        "id": "5As9vkc4oRXs"
      },
      "source": [
        "Se le conoce tambien como componente vectorial o resolucion vectorial de a en direccion de b\r\n",
        "\r\n",
        "Proyeccion vectorial es la proyeccion ortogonal de **a** sobre una linea recta paralela a **b** donde su formula es:"
      ]
    },
    {
      "cell_type": "markdown",
      "metadata": {
        "id": "v1ZUe327pA_b"
      },
      "source": [
        "![texto del vínculo](https://wikimedia.org/api/rest_v1/media/math/render/svg/814837ebc020624e16bd7ddfc2d8c65e0f94728e)"
      ]
    },
    {
      "cell_type": "markdown",
      "metadata": {
        "id": "iAoXl8ecpM2j"
      },
      "source": [
        "### Funcion en *numpy*"
      ]
    },
    {
      "cell_type": "code",
      "metadata": {
        "id": "IcMofUKgpPWI"
      },
      "source": [
        "import numpy as np"
      ],
      "execution_count": 6,
      "outputs": []
    },
    {
      "cell_type": "code",
      "metadata": {
        "id": "CLeW1I5RpSTZ"
      },
      "source": [
        "def vector_projection(a, b):\r\n",
        "  return (np.dot(a, b) / np.dot(b, b)) * b"
      ],
      "execution_count": 20,
      "outputs": []
    },
    {
      "cell_type": "code",
      "metadata": {
        "colab": {
          "base_uri": "https://localhost:8080/"
        },
        "id": "wmT8eCbkpcZI",
        "outputId": "beeeb3d1-808e-4003-caa6-9a3c59883854"
      },
      "source": [
        "vector_projection(0.1, 0.12)"
      ],
      "execution_count": 24,
      "outputs": [
        {
          "output_type": "execute_result",
          "data": {
            "text/plain": [
              "0.1"
            ]
          },
          "metadata": {
            "tags": []
          },
          "execution_count": 24
        }
      ]
    },
    {
      "cell_type": "markdown",
      "metadata": {
        "id": "yMoiZRYupnKV"
      },
      "source": [
        "### Interpretacion"
      ]
    },
    {
      "cell_type": "markdown",
      "metadata": {
        "id": "E24Yt1X1qH6B"
      },
      "source": [
        "Que de un vector **a** y un vector **b** donde estas rectas se cortan se crea una recta perpendicular y se dice que esta la proyeccion de **a** sobre **b** como se ve en la siguiente imagen"
      ]
    },
    {
      "cell_type": "markdown",
      "metadata": {
        "id": "ov3rrKZCqqGD"
      },
      "source": [
        "![](https://ekuatio.com/wp-content/uploads/proyeccion-vectores-2.png)"
      ]
    },
    {
      "cell_type": "markdown",
      "metadata": {
        "id": "pYyk_kjiv97E"
      },
      "source": [
        "### Aplicaciones <br>\r\n",
        "\r\n",
        "Se usa para resolver la ortonormalización Gram-Schmidt "
      ]
    },
    {
      "cell_type": "markdown",
      "metadata": {
        "id": "VctIBys1rtz1"
      },
      "source": [
        "# Producto cruz"
      ]
    },
    {
      "cell_type": "markdown",
      "metadata": {
        "id": "gDJugZmFr6y5"
      },
      "source": [
        "Es una operacion que se realiza en un espacio tridimensional <br>\r\n",
        "![](https://upload.wikimedia.org/wikipedia/commons/thumb/0/0d/Producto_Vectorial_seg%C3%BAn_el_angulo_entre_vectores.gif/220px-Producto_Vectorial_seg%C3%BAn_el_angulo_entre_vectores.gif)\r\n",
        "\r\n",
        "Esta operacion consiste en multiplicar dos vectores y el vector resultante se le llama el producto cruz."
      ]
    },
    {
      "cell_type": "markdown",
      "metadata": {
        "id": "P9nby1_XslCG"
      },
      "source": [
        "Este tiene las siguientes propiedades:\r\n",
        "- No es asociativo\r\n",
        "- No es conmutativo\r\n"
      ]
    },
    {
      "cell_type": "markdown",
      "metadata": {
        "id": "SIt9NZmGwo3E"
      },
      "source": [
        "### Funcion en numpy"
      ]
    },
    {
      "cell_type": "code",
      "metadata": {
        "colab": {
          "base_uri": "https://localhost:8080/"
        },
        "id": "we1lXazfs1GH",
        "outputId": "4471dde9-ddc6-41b3-cf0e-4cc923b14e53"
      },
      "source": [
        "a = np.array([0.2, 0.55])\r\n",
        "b = np.array([0.1, .8])\r\n",
        "print(np.cross(a, b))\r\n"
      ],
      "execution_count": 27,
      "outputs": [
        {
          "output_type": "stream",
          "text": [
            "0.10500000000000002\n"
          ],
          "name": "stdout"
        }
      ]
    },
    {
      "cell_type": "markdown",
      "metadata": {
        "id": "U5wZFGURtedA"
      },
      "source": [
        "### Interpretacion"
      ]
    },
    {
      "cell_type": "markdown",
      "metadata": {
        "id": "ELudnSFLt9td"
      },
      "source": [
        "El resultado de producto cruz de dos vectores es su angulo recto pero en un espacio tridimensional <br>\r\n",
        "\r\n",
        "![](https://www.mathsisfun.com/algebra/images/cross-product-simple.gif)"
      ]
    },
    {
      "cell_type": "markdown",
      "metadata": {
        "id": "TO8whaFNvqN0"
      },
      "source": [
        "### Aplicaciones\r\n",
        "\r\n",
        "En fisica se usa para cualcula el momento angular y torque"
      ]
    }
  ]
}
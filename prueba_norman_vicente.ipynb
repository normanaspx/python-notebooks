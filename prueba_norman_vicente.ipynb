{
 "cells": [
  {
   "cell_type": "code",
   "execution_count": 184,
   "id": "asian-astrology",
   "metadata": {},
   "outputs": [],
   "source": [
    "import pandas as pd\n",
    "import pyodbc\n",
    "from datetime import datetime"
   ]
  },
  {
   "cell_type": "code",
   "execution_count": 201,
   "id": "partial-wales",
   "metadata": {},
   "outputs": [],
   "source": [
    "def readToSql(driver, server, database, query):\n",
    "    connection_string= \"driver={%s};server=%s;database=%s\" % (driver, server, database)\n",
    "    connection = pyodbc.connect(connection_string)\n",
    "    cursor = connection.cursor()\n",
    "    f = open(query, \"r\")\n",
    "    s = str(f.read())\n",
    "    query=s\n",
    "    x=pd.read_sql(query,connection)\n",
    "    return x.head(10)\n",
    "    "
   ]
  },
  {
   "cell_type": "code",
   "execution_count": 202,
   "id": "several-hanging",
   "metadata": {},
   "outputs": [
    {
     "data": {
      "text/html": [
       "<div>\n",
       "<style scoped>\n",
       "    .dataframe tbody tr th:only-of-type {\n",
       "        vertical-align: middle;\n",
       "    }\n",
       "\n",
       "    .dataframe tbody tr th {\n",
       "        vertical-align: top;\n",
       "    }\n",
       "\n",
       "    .dataframe thead th {\n",
       "        text-align: right;\n",
       "    }\n",
       "</style>\n",
       "<table border=\"1\" class=\"dataframe\">\n",
       "  <thead>\n",
       "    <tr style=\"text-align: right;\">\n",
       "      <th></th>\n",
       "      <th>OrderMonth</th>\n",
       "      <th>TerritoryGroup</th>\n",
       "      <th>MonthAvg</th>\n",
       "      <th>Diff</th>\n",
       "      <th>Indicator</th>\n",
       "    </tr>\n",
       "  </thead>\n",
       "  <tbody>\n",
       "    <tr>\n",
       "      <th>0</th>\n",
       "      <td>2011-05</td>\n",
       "      <td>Europe</td>\n",
       "      <td>3490.420689</td>\n",
       "      <td>-91.420689</td>\n",
       "      <td>Below</td>\n",
       "    </tr>\n",
       "    <tr>\n",
       "      <th>1</th>\n",
       "      <td>2011-06</td>\n",
       "      <td>Europe</td>\n",
       "      <td>3490.420689</td>\n",
       "      <td>-351.420689</td>\n",
       "      <td>Below</td>\n",
       "    </tr>\n",
       "    <tr>\n",
       "      <th>2</th>\n",
       "      <td>2011-07</td>\n",
       "      <td>Europe</td>\n",
       "      <td>3490.420689</td>\n",
       "      <td>-343.504023</td>\n",
       "      <td>Below</td>\n",
       "    </tr>\n",
       "    <tr>\n",
       "      <th>3</th>\n",
       "      <td>2011-08</td>\n",
       "      <td>Europe</td>\n",
       "      <td>3490.420689</td>\n",
       "      <td>-427.006055</td>\n",
       "      <td>Below</td>\n",
       "    </tr>\n",
       "    <tr>\n",
       "      <th>4</th>\n",
       "      <td>2011-09</td>\n",
       "      <td>Europe</td>\n",
       "      <td>3490.420689</td>\n",
       "      <td>-377.269174</td>\n",
       "      <td>Below</td>\n",
       "    </tr>\n",
       "    <tr>\n",
       "      <th>5</th>\n",
       "      <td>2011-10</td>\n",
       "      <td>Europe</td>\n",
       "      <td>3490.420689</td>\n",
       "      <td>-497.826095</td>\n",
       "      <td>Below</td>\n",
       "    </tr>\n",
       "    <tr>\n",
       "      <th>6</th>\n",
       "      <td>2011-11</td>\n",
       "      <td>Europe</td>\n",
       "      <td>3490.420689</td>\n",
       "      <td>-485.191523</td>\n",
       "      <td>Below</td>\n",
       "    </tr>\n",
       "    <tr>\n",
       "      <th>7</th>\n",
       "      <td>2011-12</td>\n",
       "      <td>Europe</td>\n",
       "      <td>3490.420689</td>\n",
       "      <td>-420.015284</td>\n",
       "      <td>Below</td>\n",
       "    </tr>\n",
       "    <tr>\n",
       "      <th>8</th>\n",
       "      <td>2012-01</td>\n",
       "      <td>Europe</td>\n",
       "      <td>3490.420689</td>\n",
       "      <td>-454.309578</td>\n",
       "      <td>Below</td>\n",
       "    </tr>\n",
       "    <tr>\n",
       "      <th>9</th>\n",
       "      <td>2012-02</td>\n",
       "      <td>Europe</td>\n",
       "      <td>3490.420689</td>\n",
       "      <td>-361.373070</td>\n",
       "      <td>Below</td>\n",
       "    </tr>\n",
       "  </tbody>\n",
       "</table>\n",
       "</div>"
      ],
      "text/plain": [
       "  OrderMonth TerritoryGroup     MonthAvg        Diff Indicator\n",
       "0    2011-05         Europe  3490.420689  -91.420689     Below\n",
       "1    2011-06         Europe  3490.420689 -351.420689     Below\n",
       "2    2011-07         Europe  3490.420689 -343.504023     Below\n",
       "3    2011-08         Europe  3490.420689 -427.006055     Below\n",
       "4    2011-09         Europe  3490.420689 -377.269174     Below\n",
       "5    2011-10         Europe  3490.420689 -497.826095     Below\n",
       "6    2011-11         Europe  3490.420689 -485.191523     Below\n",
       "7    2011-12         Europe  3490.420689 -420.015284     Below\n",
       "8    2012-01         Europe  3490.420689 -454.309578     Below\n",
       "9    2012-02         Europe  3490.420689 -361.373070     Below"
      ]
     },
     "execution_count": 202,
     "metadata": {},
     "output_type": "execute_result"
    }
   ],
   "source": [
    "readToSql('SQL Server' , 'NORMAN' , 'prueba_norman', 'query.sql')"
   ]
  },
  {
   "cell_type": "code",
   "execution_count": 199,
   "id": "crazy-fabric",
   "metadata": {},
   "outputs": [],
   "source": [
    "def storeToSql(driver, server, database, query_path, table_name, log_path):\n",
    "    connection_string= \"driver={%s};server=%s;database=%s\" % (driver, server, database)\n",
    "    connection = pyodbc.connect(connection_string)\n",
    "    cursor = connection.cursor()\n",
    "    f = open(query_path, \"r\")\n",
    "    query=str(f.read())\n",
    "    x=pd.read_sql(query,connection)\n",
    "    cols = \",\".join([str(i) for i in x.columns.tolist()])\n",
    "    sql = f\"INSERT INTO {table_name} (\" +cols + \") %s\" % query\n",
    "    #print(sql)\n",
    "    cursor.execute(sql)\n",
    "    connection.commit()\n",
    "    connection.close()\n",
    "    date = datetime.now()\n",
    "    now= date.strftime(\"%d/%m/%Y %H:%M:%S\")\n",
    "    if(cursor.rowcount>0):\n",
    "         log = \"Fueron insertados %s registros: %s\\n\" % (cursor.rowcount, now)\n",
    "    else:  log = \"No se insertaron los registros: %s\\n\" % (now)\n",
    "    f = open(log_path, \"a\")\n",
    "    f.write(log)\n",
    "    return log\n",
    "  "
   ]
  },
  {
   "cell_type": "code",
   "execution_count": 200,
   "id": "imperial-honduras",
   "metadata": {},
   "outputs": [
    {
     "data": {
      "text/plain": [
       "'Fueron insertados 114 registros: 29/04/2021 21:30:18\\n'"
      ]
     },
     "execution_count": 200,
     "metadata": {},
     "output_type": "execute_result"
    }
   ],
   "source": [
    "#Driver, Server, database, query_path, table_name, log_path\n",
    "storeToSql('SQL Server' , 'NORMAN' , 'prueba_norman', 'query.sql', 'indicators', 'log.txt')"
   ]
  },
  {
   "cell_type": "code",
   "execution_count": null,
   "id": "quick-contractor",
   "metadata": {},
   "outputs": [],
   "source": []
  }
 ],
 "metadata": {
  "kernelspec": {
   "display_name": "Python 3",
   "language": "python",
   "name": "python3"
  },
  "language_info": {
   "codemirror_mode": {
    "name": "ipython",
    "version": 3
   },
   "file_extension": ".py",
   "mimetype": "text/x-python",
   "name": "python",
   "nbconvert_exporter": "python",
   "pygments_lexer": "ipython3",
   "version": "3.8.5"
  }
 },
 "nbformat": 4,
 "nbformat_minor": 5
}

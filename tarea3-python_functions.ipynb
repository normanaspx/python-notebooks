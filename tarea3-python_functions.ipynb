{
 "cells": [
  {
   "cell_type": "markdown",
   "id": "exposed-webmaster",
   "metadata": {},
   "source": [
    "# Funciones en Python"
   ]
  },
  {
   "cell_type": "markdown",
   "id": "minimal-freedom",
   "metadata": {},
   "source": [
    "## Funciones en Python"
   ]
  },
  {
   "cell_type": "markdown",
   "id": "polished-norwegian",
   "metadata": {},
   "source": [
    "Una funciones es un bloque de codigo que se encarga de realizar acciones."
   ]
  },
  {
   "cell_type": "markdown",
   "id": "sustained-diving",
   "metadata": {},
   "source": [
    "Las funciones nos ayudan a realizar acciones y ordenar mejor el codigo en este ejemplo necesitamos saber si cantidad de datos es par o impar."
   ]
  },
  {
   "cell_type": "code",
   "execution_count": 115,
   "id": "demanding-necklace",
   "metadata": {},
   "outputs": [],
   "source": [
    "data = [100,200,300,400,500,600,700]\n",
    "def esPar(arr):\n",
    "    if(len(arr)%2==0):\n",
    "        return \"Es par\"\n",
    "    else:\n",
    "        return \"Es impar\""
   ]
  },
  {
   "cell_type": "code",
   "execution_count": 116,
   "id": "recent-stuff",
   "metadata": {},
   "outputs": [
    {
     "data": {
      "text/plain": [
       "'Es impar'"
      ]
     },
     "execution_count": 116,
     "metadata": {},
     "output_type": "execute_result"
    }
   ],
   "source": [
    "esPar(data)"
   ]
  },
  {
   "cell_type": "markdown",
   "id": "hawaiian-exemption",
   "metadata": {},
   "source": [
    "## Argumentos posicionales"
   ]
  },
  {
   "cell_type": "markdown",
   "id": "forbidden-lincoln",
   "metadata": {},
   "source": [
    "Son argumentos que se le pasan a una funcion tomando en cuenta su posicion en la definicion de la funcion.\n",
    "Para el ejemplo vamos a importar la libreria math"
   ]
  },
  {
   "cell_type": "code",
   "execution_count": 6,
   "id": "regulation-yield",
   "metadata": {},
   "outputs": [],
   "source": [
    "from math import factorial"
   ]
  },
  {
   "cell_type": "markdown",
   "id": "mysterious-logging",
   "metadata": {},
   "source": [
    "Vamos a crear una funcion que devuelve el resultado de una combinacion (nCr) obviamente nos interesa el orden de los parametros por lo tanto utilizamos argumentos posicionales"
   ]
  },
  {
   "cell_type": "code",
   "execution_count": 10,
   "id": "israeli-appeal",
   "metadata": {},
   "outputs": [],
   "source": [
    "def combinacion(n, r):\n",
    "    return factorial(n) // (factorial(r) * factorial(n - r)) "
   ]
  },
  {
   "cell_type": "code",
   "execution_count": 9,
   "id": "revolutionary-pillow",
   "metadata": {},
   "outputs": [
    {
     "data": {
      "text/plain": [
       "21"
      ]
     },
     "execution_count": 9,
     "metadata": {},
     "output_type": "execute_result"
    }
   ],
   "source": [
    "combinacion(7,2)"
   ]
  },
  {
   "cell_type": "markdown",
   "id": "nominated-light",
   "metadata": {},
   "source": [
    "## Parametros nombrados"
   ]
  },
  {
   "cell_type": "markdown",
   "id": "pressed-jumping",
   "metadata": {},
   "source": [
    "Para los parametros nombrados al momento de llamar a la funcion el orden ya no importa ya que podemos hacer referencia al nombre del parametro."
   ]
  },
  {
   "cell_type": "code",
   "execution_count": 15,
   "id": "satisfied-liquid",
   "metadata": {},
   "outputs": [
    {
     "data": {
      "text/plain": [
       "21"
      ]
     },
     "execution_count": 15,
     "metadata": {},
     "output_type": "execute_result"
    }
   ],
   "source": [
    "combinacion(r=2,n=7)"
   ]
  },
  {
   "cell_type": "markdown",
   "id": "italic-locator",
   "metadata": {},
   "source": [
    "Como vimos en el ejemplo usamos la funcion en orden distinto pero haciendo referencia a los nombres de los parametros. No podemos hacer referencia al nombre de un parametro que no exista o nos dara error, como en el siguiente caso:"
   ]
  },
  {
   "cell_type": "code",
   "execution_count": null,
   "id": "ecological-directory",
   "metadata": {},
   "outputs": [],
   "source": [
    "combinacion(x=2,n=7) #esto dara un errror"
   ]
  },
  {
   "cell_type": "markdown",
   "id": "obvious-accreditation",
   "metadata": {},
   "source": [
    "## Retorno de variables multiples"
   ]
  },
  {
   "cell_type": "markdown",
   "id": "driving-spank",
   "metadata": {},
   "source": [
    "Para este tipo de funcion su caracteristica es que devuelve multiples valores. Veamos un ejemplo."
   ]
  },
  {
   "cell_type": "code",
   "execution_count": 1,
   "id": "frequent-project",
   "metadata": {},
   "outputs": [],
   "source": [
    "import math\n",
    "def intervalo_de_confianza(n, media, desvest):\n",
    "    margen_de_error = 1.96 * (desvest / (math.sqrt(n)))\n",
    "    return round(media-margen_de_error, 2), round(media+margen_de_error, 2), margen_de_error\n",
    "    "
   ]
  },
  {
   "cell_type": "markdown",
   "id": "casual-arthur",
   "metadata": {},
   "source": [
    "Para este ejemplo creamos una funcion que retorna el intervalo de confianza a un 95%, como parametros le enviamos la cantidad de datos, media de los datos y su desviacion estandar."
   ]
  },
  {
   "cell_type": "code",
   "execution_count": 2,
   "id": "integral-testament",
   "metadata": {},
   "outputs": [
    {
     "data": {
      "text/plain": [
       "(24.11, 25.49, 0.6929646455628165)"
      ]
     },
     "execution_count": 2,
     "metadata": {},
     "output_type": "execute_result"
    }
   ],
   "source": [
    "intervalo_de_confianza(200, 24.8, 5)"
   ]
  },
  {
   "cell_type": "markdown",
   "id": "dental-namibia",
   "metadata": {},
   "source": [
    "Podemos ver que nos retorna tres valores que son: **limite inferior, limite superior y el margen de error**."
   ]
  },
  {
   "cell_type": "code",
   "execution_count": 4,
   "id": "invalid-space",
   "metadata": {},
   "outputs": [],
   "source": [
    "limite_inf, limite_sup, margen_e = intervalo_de_confianza(200, 24.8, 5)"
   ]
  },
  {
   "cell_type": "code",
   "execution_count": 5,
   "id": "perceived-transition",
   "metadata": {},
   "outputs": [
    {
     "name": "stdout",
     "output_type": "stream",
     "text": [
      "El intervalo de confianza a un 95% es ( 24.11 , 25.49 ) con un margen de error de: 0.6929646455628165\n"
     ]
    }
   ],
   "source": [
    "print (\"El intervalo de confianza a un 95% es (\",limite_inf,\",\",limite_sup,\") con un margen de error de:\", margen_e)"
   ]
  },
  {
   "cell_type": "markdown",
   "id": "structural-thought",
   "metadata": {},
   "source": [
    "## Funciones como objetos y como parametros de otras funciones"
   ]
  },
  {
   "cell_type": "markdown",
   "id": "polished-scenario",
   "metadata": {},
   "source": [
    "En python podemos tratar a las funciones como objetos veamos un ejemplo con la funcion **intervalo_de_confianza**:"
   ]
  },
  {
   "cell_type": "code",
   "execution_count": 6,
   "id": "split-bread",
   "metadata": {},
   "outputs": [],
   "source": [
    "confidence_interval = intervalo_de_confianza"
   ]
  },
  {
   "cell_type": "markdown",
   "id": "greek-mixture",
   "metadata": {},
   "source": [
    "Vemos que al ser un objeto podemos igualarla a otro objeto en este caso confidence_interval"
   ]
  },
  {
   "cell_type": "code",
   "execution_count": 7,
   "id": "comprehensive-salon",
   "metadata": {},
   "outputs": [
    {
     "data": {
      "text/plain": [
       "(24.11, 25.49, 0.6929646455628165)"
      ]
     },
     "execution_count": 7,
     "metadata": {},
     "output_type": "execute_result"
    }
   ],
   "source": [
    "confidence_interval(200, 24.8, 5)"
   ]
  },
  {
   "cell_type": "markdown",
   "id": "resistant-happening",
   "metadata": {},
   "source": [
    "Tambien podemos crear una funcion que reciba como parametro otra funcion. En una distribucion de numeros podemos tener datos atipicos por lo que en ocaciones es preferible la mediana sobre la media"
   ]
  },
  {
   "cell_type": "code",
   "execution_count": 97,
   "id": "missing-edward",
   "metadata": {},
   "outputs": [],
   "source": [
    "import statistics as stats\n",
    "edades = [7, 4, 10, 9, 4, 8, 10, 2, 5, 77, 10]\n",
    "def mejor_dato_medio(nombre_funcion, d):\n",
    "    return nombre_funcion(d)"
   ]
  },
  {
   "cell_type": "code",
   "execution_count": 98,
   "id": "harmful-majority",
   "metadata": {},
   "outputs": [
    {
     "data": {
      "text/plain": [
       "8"
      ]
     },
     "execution_count": 98,
     "metadata": {},
     "output_type": "execute_result"
    }
   ],
   "source": [
    "mejor_dato_medio(stats.median, edades)"
   ]
  },
  {
   "cell_type": "code",
   "execution_count": 99,
   "id": "proud-theme",
   "metadata": {},
   "outputs": [
    {
     "data": {
      "text/plain": [
       "13.272727272727273"
      ]
     },
     "execution_count": 99,
     "metadata": {},
     "output_type": "execute_result"
    }
   ],
   "source": [
    "mejor_dato_medio(stats.mean, edades)"
   ]
  },
  {
   "cell_type": "markdown",
   "id": "advanced-license",
   "metadata": {},
   "source": [
    "**Vemos que usamos el nombre de la funcion como parametro** haciendo un analisis de la media como de la mediana siendo la mediana la que me da mejor representacion de la mitad de los datos"
   ]
  },
  {
   "cell_type": "markdown",
   "id": "intensive-roommate",
   "metadata": {},
   "source": [
    "## Funciones anonimas o Lambda"
   ]
  },
  {
   "cell_type": "markdown",
   "id": "sexual-behavior",
   "metadata": {},
   "source": [
    "Las funciones lambda son funciones que podemos ejecutar sin tener que definirlas, en general se usan para realizar funciones simples y no tan complejas como una definida con **def**."
   ]
  },
  {
   "cell_type": "code",
   "execution_count": 110,
   "id": "virgin-strip",
   "metadata": {},
   "outputs": [],
   "source": [
    "decimal = lambda n:n / 100 "
   ]
  },
  {
   "cell_type": "code",
   "execution_count": 111,
   "id": "spanish-pendant",
   "metadata": {},
   "outputs": [
    {
     "data": {
      "text/plain": [
       "0.1"
      ]
     },
     "execution_count": 111,
     "metadata": {},
     "output_type": "execute_result"
    }
   ],
   "source": [
    "decimal(10)"
   ]
  },
  {
   "cell_type": "markdown",
   "id": "pressed-calculator",
   "metadata": {},
   "source": [
    "Creamos una funcion para obetener el decimal de un numero"
   ]
  }
 ],
 "metadata": {
  "kernelspec": {
   "display_name": "Python 3",
   "language": "python",
   "name": "python3"
  },
  "language_info": {
   "codemirror_mode": {
    "name": "ipython",
    "version": 3
   },
   "file_extension": ".py",
   "mimetype": "text/x-python",
   "name": "python",
   "nbconvert_exporter": "python",
   "pygments_lexer": "ipython3",
   "version": "3.8.5"
  }
 },
 "nbformat": 4,
 "nbformat_minor": 5
}
